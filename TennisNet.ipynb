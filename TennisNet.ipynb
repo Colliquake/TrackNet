{
 "cells": [
  {
   "cell_type": "markdown",
   "id": "233298cb-37ec-4d1f-85da-c52ed40b1c17",
   "metadata": {},
   "source": [
    "## Preprocess Data"
   ]
  },
  {
   "cell_type": "code",
   "execution_count": null,
   "id": "24fdc646-9563-4448-88e6-4d77b6dedee2",
   "metadata": {},
   "outputs": [],
   "source": []
  },
  {
   "cell_type": "markdown",
   "id": "70484699-fe05-4887-8d57-7950f3b700e5",
   "metadata": {},
   "source": [
    "## Dataset"
   ]
  },
  {
   "cell_type": "code",
   "execution_count": 2,
   "id": "98de0526-c933-44ea-9f29-eb7b30c4b31c",
   "metadata": {},
   "outputs": [],
   "source": [
    "import torch\n",
    "from torch.utils.data import Dataset\n",
    "from torchvision.transforms import v2\n",
    "import pandas as pd\n",
    "import numpy as np\n",
    "import os\n",
    "from natsort import natsorted\n",
    "import cv2\n",
    "from matplotlib import pyplot as plt"
   ]
  },
  {
   "cell_type": "code",
   "execution_count": 3,
   "id": "815f38ee-458e-40a6-85d0-2c37b548df12",
   "metadata": {},
   "outputs": [],
   "source": [
    "class TennisDataset(Dataset):\n",
    "    def __init__(self, base_path, transform, frames=1, resize=(720, 1280)):\n",
    "        self.base_path = base_path\n",
    "        self.frames = frames\n",
    "        self.resize = resize\n",
    "        self.transform = transform or v2.Compose([\n",
    "            v2.Resize((resize[0], resize[1])),\n",
    "            v2.ToImage(),\n",
    "            v2.ToDtype(torch.float32, scale=True)\n",
    "        ])\n",
    "        # self.img_labels = []\n",
    "\n",
    "        frames_ahead = frames // 2\n",
    "        frames_behind = frames - 1 - frames_ahead\n",
    "\n",
    "        data = []\n",
    "        for game_name in natsorted(os.listdir(base_path)):\n",
    "            game_path = os.path.join(base_path, game_name)\n",
    "            if not os.path.isdir(game_path):\n",
    "                continue\n",
    "\n",
    "            for clip_name in natsorted(os.listdir(game_path)):\n",
    "                clip_path = os.path.join(game_path, clip_name)\n",
    "                if not os.path.isdir(clip_path):\n",
    "                    continue\n",
    "\n",
    "                # get labels, format their filenames, and combine them (later) into one\n",
    "                label_file_path = os.path.join(clip_path, 'Label.csv')\n",
    "                label = pd.read_csv(label_file_path)\n",
    "                label = label[frames_behind:-frames_ahead][:]\n",
    "                label = label.fillna(-1)\n",
    "                label = label.rename(columns={\"file name\": \"filename\"})\n",
    "                label['filename'] = game_name + '_' + clip_name + '_' + label['filename']\n",
    "                data.extend(label.values.tolist())\n",
    "\n",
    "        self.labels = pd.DataFrame(data, columns=['filename', 'visibility', 'x-coordinate', 'y-coordinate', 'status'])\n",
    "    \n",
    "    def __len__(self):\n",
    "        return len(self.labels)\n",
    "\n",
    "    def __getitem__(self, idx):\n",
    "        imgs = []\n",
    "        entry = self.labels.iloc[idx]\n",
    "        \n",
    "        filename = entry.iloc[0]\n",
    "        first_sep = filename.index(\"_\")\n",
    "        second_sep = filename.index(\"_\", first_sep + 1)\n",
    "        game_name = filename[:first_sep]\n",
    "        clip_name = filename[first_sep+1:second_sep]\n",
    "        # img_name = filename[second_sep+1:]\n",
    "        img_num = int(filename[second_sep+1:filename.index(\".\")])\n",
    "\n",
    "        frames_behind = self.frames - 1 - (self.frames // 2)\n",
    "        start = img_num - frames_behind\n",
    "        for i in range(start, start + self.frames):\n",
    "            img_name = str(i).zfill(4) + \".jpg\"\n",
    "            img_path = os.path.join(self.base_path, game_name, clip_name, img_name)\n",
    "            img = cv2.imread(img_path)\n",
    "            if self.transform:\n",
    "                img = self.transform(img)\n",
    "            imgs.append(img)\n",
    "\n",
    "        imgs = np.array(imgs)\n",
    "        imgs = torch.tensor(imgs)\n",
    "        imgs = torch.permute(imgs, (0, 3, 1, 2))\n",
    "        imgs = torch.reshape(imgs, (9, self.resize[0], self.resize[1]))\n",
    "\n",
    "        return imgs, entry"
   ]
  },
  {
   "cell_type": "code",
   "execution_count": 4,
   "id": "a464997d-62c8-4774-ae0b-52bf6cc09c0d",
   "metadata": {},
   "outputs": [],
   "source": [
    "base_path = './datasets/tennis'"
   ]
  }
 ],
 "metadata": {
  "kernelspec": {
   "display_name": "Python 3 (ipykernel)",
   "language": "python",
   "name": "python3"
  },
  "language_info": {
   "codemirror_mode": {
    "name": "ipython",
    "version": 3
   },
   "file_extension": ".py",
   "mimetype": "text/x-python",
   "name": "python",
   "nbconvert_exporter": "python",
   "pygments_lexer": "ipython3",
   "version": "3.11.0"
  }
 },
 "nbformat": 4,
 "nbformat_minor": 5
}
